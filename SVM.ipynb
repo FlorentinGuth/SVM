{
 "cells": [
  {
   "cell_type": "markdown",
   "metadata": {},
   "source": [
    "# Convex Optimization Project\n",
    "## Support Vector Machines solvers\n",
    "\n",
    "Given $m$ data points $x_i \\in \\mathbb{R}^n$ with labels $y_i \\in \\{-1,1\\}$, write a function to solve the classification problem\n",
    "\n",
    "$$ \\begin{array}l\n",
    "\\mathrm{minimize} & \\frac12 {||w||}_2^2 + C \\mathbf{1}^Tz \\\\\n",
    "\\mathrm{subject\\ to} & y_i(w^Tx_i) \\geq 1 - z_i, \\quad \\forall i \\in \\{1,\\ldots,m\\} \\\\\n",
    "& z \\succcurlyeq 0\n",
    "\\end{array} $$\n",
    "\n",
    "in the variables $w \\in \\mathbb{R}^n$, $z \\in \\mathbb{R}^m$, and its dual (warning: this problem is a bit different from the one in exercise 1).\n",
    "\n",
    "Solving this problem trains a classifier vector $w$ such that, up to some errors\n",
    "\n",
    "$$ \\begin{array}l\n",
    "w^Tx_i > 0 & \\mathrm{when}\\ y_i = 1 \\\\\n",
    "w^Tx_i < 0 & \\mathrm{when}\\ y_i = -1.\n",
    "\\end{array} $$\n",
    "\n",
    "This classifier can then be used to classify new points $x$ as positives or negatives by simply computing the scalar product $w^Tx$."
   ]
  },
  {
   "cell_type": "code",
   "execution_count": 8,
   "metadata": {},
   "outputs": [
    {
     "name": "stdout",
     "output_type": "stream",
     "text": [
      "Populating the interactive namespace from numpy and matplotlib\n"
     ]
    }
   ],
   "source": [
    "%pylab inline"
   ]
  },
  {
   "cell_type": "markdown",
   "metadata": {},
   "source": [
    "- Use the barrier method to solve both primal and dual problems."
   ]
  },
  {
   "cell_type": "code",
   "execution_count": 3,
   "metadata": {
    "collapsed": true
   },
   "outputs": [],
   "source": [
    "def newton(f, gradient_and_hessian, ɛ, x0, α=0.45, β=0.8):\n",
    "    \"\"\" Newton descent method.\n",
    "    @param f is the function to minimize\n",
    "    @param gradient_and_hessian is a function that returns the gradient and the hessian at x\n",
    "    @param ɛ is the required absolute precision\n",
    "    @param x0 is a strictly feasible point, i.e., f(x0) < +inf\n",
    "    @param α is a parameter for the backtracking line search\n",
    "    @param β is a parameter for the backtracking line search\n",
    "    @return an array of values\n",
    "    \"\"\"    \n",
    "    x = x0\n",
    "    values = [[copy(x), f(x)]]\n",
    "    while True:\n",
    "        # Direction computation.\n",
    "        gradient, hessian = gradient_and_hessian(x)\n",
    "        hessian_inv = inv(H)\n",
    "        dx = -hessian_inv.dot(gradient)\n",
    "        \n",
    "        # Stopping criterion.\n",
    "        λsquare = gradient.dot(-dx)\n",
    "        if λsquare/2 <= ɛ:\n",
    "            break\n",
    "        \n",
    "        # Backtracking line search.\n",
    "        t = 1.0\n",
    "        f0 = f(x)\n",
    "        Δ = -λsquare\n",
    "        while f(x + t*dx) > f0 + α*t*Δ:\n",
    "            t *= β\n",
    "        \n",
    "        # Update.\n",
    "        x += t*dx\n",
    "        values.append([copy(x), f(x)])\n",
    "    \n",
    "    return array(values)"
   ]
  },
  {
   "cell_type": "code",
   "execution_count": 6,
   "metadata": {
    "collapsed": true
   },
   "outputs": [],
   "source": [
    "def barrier_method(objective, objective_gh, m, constraints, constraints_gh, ɛ, x0, t0=1.0, μ=10.0, *newton_params):\n",
    "    \"\"\" Solve the SVM classifier problem.\n",
    "    @param objective is the function to minimize\n",
    "    @param objective_gh is a function which returns the gradient and the hessian of the objective\n",
    "    @param m is the number of (inequality) constraints\n",
    "    @param constraints is a function which returns the array of the f_i(x) where f_i(x) <= 0\n",
    "    @param constraints_gh is a function which returns the array of gradients and hessians of the -log(-fi(x))\n",
    "    @param x0 is a strictly feasible point, i.e., objective(x0) < +inf and constraints(x0) < 0\n",
    "    @param t0 is a barrier parameter\n",
    "    @param μ is a barrier parameter\n",
    "    @param *newton_params are the additional newton method parameters\n",
    "    @return an array of values\n",
    "    \"\"\"\n",
    "    x = x0\n",
    "    t = t0\n",
    "    values = []\n",
    "    \n",
    "    def f(x):\n",
    "        cons = constraints(x)\n",
    "        if any(cons) <= 0:\n",
    "            return float(\"inf\")\n",
    "        return objective(x) - sum(log(cons))/t\n",
    "    def gradient_and_hessian(x):\n",
    "        obj_g, obj_h = objective_gh(x)\n",
    "        cons_g, cons_h = constraints_gh(x)\n",
    "        return obj_g + cons_g/t, obj_h + cons_h/t\n",
    "    \n",
    "    while True:\n",
    "        x = newton(f, gradient_and_hessian, ɛ, x, *newton_params)[-1][0]\n",
    "        values.append([copy(v), objective(v)])\n",
    "        # Stopping criterion.\n",
    "        if m/t <= ɛ:\n",
    "            break\n",
    "        t *= μ\n",
    "    \n",
    "    return array(values)"
   ]
  },
  {
   "cell_type": "markdown",
   "metadata": {},
   "source": [
    "To solve the original problem, we need to solve the following problems for different values of $t$:\n",
    "\n",
    "$$ \\begin{array}c\n",
    "\\mathrm{minimize} & \\frac12 {||w||}_2^2 + C \\mathbf{1}^Tz - \\frac1t \\left[ \\sum_{i=1}^m \\log \\left( y_i(w^Tx_i) - 1 + z_i \\right) + \\sum_{i=1}^m \\log(z_i) \\right]\n",
    "\\end{array} $$"
   ]
  },
  {
   "cell_type": "markdown",
   "metadata": {},
   "source": [
    "Now, we can reformulate the problem to:\n",
    "\n",
    "$$ \\begin{array}c\n",
    "\\mathrm{minimize} & \\frac12{||w||}_2^2 + C\\mathbf{1}^Tz - \\frac1t \\sum_{i=1}^{2m} \\log(b_i - a_i^Tv)\n",
    "\\end{array} \\\\ \\\\\n",
    "\\mathrm{with}\\quad v = (w,z) \\in \\mathbb{R}^{n+m}\\quad b_i = \\left\\{ \\begin{array}l -1 & \\text{if}\\ i \\leq m \\\\ 0 & \\text{if}\\ i > m \\end{array}\\right. \\quad a_i = \\left\\{\\begin{array}l -(y_ix_i,e_i) & \\text{if}\\ i \\leq m \\\\ (0,e_{i-m}) & \\text{if}\\ i > m \\end{array}\\right.\\quad (e_i)_{1\\leq i\\leq m} \\text{ is the canonical base of } \\mathbb{R}^m\n",
    "$$"
   ]
  },
  {
   "cell_type": "markdown",
   "metadata": {},
   "source": [
    "$$ f(w,z) = \\frac12 {||w||}_2^2 + C \\mathbf{1}^Tz - \\frac1t \\sum_{i=1}^{2m} \\log(b_i - a_i^Tv) $$\n",
    "\n",
    "$$ \\nabla_v f(v) = (w,C\\mathbf{1}) + \\frac1t\\sum_{i=1}^{2m} \\frac{a_i}{b_i - a_i^Tv} $$\n",
    "\n",
    "$$ H_f(v) = \\left( \\begin{array}c\n",
    "I_n & 0 \\\\\n",
    "0 & 0 \\\\\n",
    "\\end{array} \\right) + \\frac1t \\sum_{i=1}^{2m} \\frac{a_i a_i^T}{\\left( b_i - a_i^Tv \\right)^2} $$"
   ]
  },
  {
   "cell_type": "code",
   "execution_count": 10,
   "metadata": {
    "collapsed": true
   },
   "outputs": [],
   "source": [
    "def svm_barrier(x, y, c):\n",
    "    \"\"\" Solve the SVM classifier problem.\n",
    "    @param x is an array of shape (m,n): the m points in dimension n\n",
    "    @param y is an array of shape m and of values in {-1,1}: the labels\n",
    "    @param c is the margin parameter\n",
    "    @return (w,z) where w is the classifier vector (array of shape n) and z the margin vector (array of shape m)\n",
    "    \"\"\"\n",
    "    m, n = x.shape\n",
    "    # w = 0 and z_i = 2 is a strictly feasible point.\n",
    "    v0 = concatenate((zeros(n), 2*ones(m)))\n",
    "    a = concatenate((\n",
    "            concatenate(((y*x.T).T, eye(m)), axis=1), \n",
    "            concatenate((zeros((m, n)), eye(m)), axis=1)), \n",
    "            axis=0)\n",
    "    b = concatenate(-ones(m), zeros(m))\n",
    "    \n",
    "    scalars = array([a[i].reshape(n,1).dot(a[i].reshape(1,n)) for i in range(m)])\n",
    "    def objective(v):\n",
    "        w, z = x[:n], x[n:]\n",
    "        return sum(w**2)/2 + c*sum(z)\n",
    "    def objective_gh(v):\n",
    "        w, z = x[:n], x[n:]\n",
    "        gradient = concatenate(w, c*ones(m))\n",
    "        hessian = concatenate((\n",
    "            concatenate((eye(n), zeros((m, m))), axis=1),\n",
    "            zeros((m, n+m)),\n",
    "        ), axis=0)\n",
    "        return gradient, hessian\n",
    "    def constraints(v):\n",
    "        return a.dot(v) - b\n",
    "    def constraints_gh(v):\n",
    "        gradient = sum((a.T / div).T, axis=0)/t\n",
    "        hessian = sum((scalars.T / (div**2)).T, axis=0)/t\n",
    "        return gradient, hessian\n",
    "    \n",
    "    ɛ = 1e-10\n",
    "    values = barrier_method(objective, objective_gh, m, constraints, constraints_gh, ɛ, v0)\n",
    "    v = values[-1][0]\n",
    "    return v[:n], v[n:]"
   ]
  },
  {
   "cell_type": "markdown",
   "metadata": {},
   "source": [
    "- Test your code on random clouds of points (e.g. generate two classes of data points by picking two bivariate Gaussian samples with different moments)."
   ]
  },
  {
   "cell_type": "code",
   "execution_count": null,
   "metadata": {
    "collapsed": true
   },
   "outputs": [],
   "source": [
    "def data_points(n):\n",
    "    \"\"\" Generates a dataset composed of two bivariate gaussian samples with different means.\n",
    "    @param n is the number of points in each class\n",
    "    @return \"\"\"\n",
    "    σ = \n",
    "    μ1 = \n",
    "    μ2 = "
   ]
  },
  {
   "cell_type": "markdown",
   "metadata": {},
   "source": [
    "- Try various values of $C > 0$ and measure out-of-sample performance (i.e. classification errors on points the algorithm has not seen)."
   ]
  },
  {
   "cell_type": "markdown",
   "metadata": {},
   "source": [
    "- Plot duality gap versus iteration number as well as a separation example in 2D (you may add a constant coefficient to the data points $x$ to allow classifiers that do not go through the origin)."
   ]
  },
  {
   "cell_type": "markdown",
   "metadata": {},
   "source": [
    "(Optional) Use CVX (MATLAB or OCTAVE) or CVXOPT (python), as well as LIBSVM and/or LIBLINEAR to check your results and compare performance."
   ]
  },
  {
   "cell_type": "markdown",
   "metadata": {},
   "source": [
    "(Optional) Use the coordinate descent method to solve the dual. Plot duality gap versus iteration number and compare performance with the barrier method for various problem sizes (vary the number of samples and record to total CPU time required by each code to reduce the gap by a factor ${10}^{-3}$)."
   ]
  },
  {
   "cell_type": "markdown",
   "metadata": {},
   "source": [
    "(Optional) Use the logarithmic barrier code you wrote in HW1 to solve a small random instance of the primal problem using the ACCPM algorithm. Plot an upper bound on the distance to optimality in semilog scale and try various constraint dropping strategies. Compare convergence with the two other methods."
   ]
  },
  {
   "cell_type": "markdown",
   "metadata": {},
   "source": [
    "# Better Version"
   ]
  },
  {
   "cell_type": "markdown",
   "metadata": {
    "collapsed": true
   },
   "source": [
    "# Project: Convex Optimization"
   ]
  },
  {
   "cell_type": "code",
   "execution_count": 9,
   "metadata": {},
   "outputs": [
    {
     "name": "stdout",
     "output_type": "stream",
     "text": [
      "Populating the interactive namespace from numpy and matplotlib\n"
     ]
    }
   ],
   "source": [
    "%pylab inline"
   ]
  },
  {
   "cell_type": "markdown",
   "metadata": {},
   "source": [
    "## SVM Classifier Problem\n",
    "\n",
    "For $x_1,  x_2, \\ldots, x_m \\in \\mathbb{R}^n$, $y_1,\\ldots,y_m \\in \\mathbb{R}$, we consider the following minimization problem:\n",
    "\\begin{equation*}\n",
    "\\begin{aligned}\n",
    "& \\underset{w, z}{\\text{minimize}}\n",
    "& & \\frac12 \\|w\\|_2^2 + C \\mathbf{1}^Tz \\\\\n",
    "& \\text{subject to}\n",
    "& & y_i(w^Tx_i) \\ge 1 - z_i, \\; i = 1, \\ldots, m \\\\\n",
    "& & & z \\ge 0\n",
    "\\end{aligned}\n",
    "\\end{equation*}\n",
    "\n",
    "If we compute the dual, we get the following minimization problem:\n",
    "\\begin{equation*}\n",
    "\\begin{aligned}\n",
    "& \\underset{\\alpha}{\\text{minimize}}\n",
    "& & \\frac12 \\alpha^T \\mathbf{diag}(y)XX^T\\textbf{diag}(y)\\alpha - \\mathbf{1}^T\\alpha \\\\\n",
    "& \\text{subject to}\n",
    "& & 0 \\le \\alpha \\le C\n",
    "\\end{aligned}\n",
    "\\end{equation*}\n",
    "\n",
    "where we can recover the primal solution: $w= \\sum_{i=1}^m \\alpha_i y_i x_i$\n",
    "\n",
    "Thus, we use the barrier method to solve both primal and duals:\n",
    "\\begin{equation*}\n",
    "\\begin{aligned}\n",
    "& \\underset{\\alpha}{\\text{minimize}}\n",
    "& & \\frac12 \\alpha^T \\mathbf{diag}(y)XX^T\\textbf{diag}(y)\\alpha - \\mathbf{1}^T\\alpha - \\frac1t \\sum_{i=1}^m (\\log(\\alpha_i) + \\log(C - \\alpha_i))\n",
    "\\end{aligned}\n",
    "\\end{equation*}\n",
    "\n",
    "We first compute the formula for the gradient and the hessian matrix.\n",
    "We first set $H = \\mathbf{diag}(y)XX^T\\textbf{diag}(y)$.\n",
    "Then, we get:\n",
    "$$\\nabla f = H \\alpha - \\mathbf{1} + \\frac1t \\sum_{i=1}^m (-\\frac1{\\alpha_i} + \\frac1{C-\\alpha_i})e_i\\\\\n",
    "\\nabla^2 f = H + \\frac1t \\textbf{diag}(\\frac1{\\alpha_i^2} + \\frac1{(C-\\alpha_i)^2})\n",
    "$$"
   ]
  },
  {
   "cell_type": "code",
   "execution_count": 10,
   "metadata": {
    "collapsed": true
   },
   "outputs": [],
   "source": [
    "def newton_svm(H, C, epsilon, alpha, beta, t=1., x_start=None, display=True, optimal_value=None):\n",
    "    n, _ = H.shape\n",
    "    inv_t = 1 / t\n",
    "    \n",
    "    # We arbitrarily choose C/2 as first position, if no x_start is supplied.\n",
    "    # Otherwise, we assume that this first x is strictly feasible.\n",
    "    if x_start is None:\n",
    "        x = np.ones(n) * C / 2\n",
    "    else:\n",
    "        x = x_start\n",
    "        \n",
    "    errs = []\n",
    "    neg_ones = -np.ones(n)\n",
    "    inds = np.arange(0, n)\n",
    "    Hx = H.dot(x)\n",
    "    fx = 0.5 * x.dot(Hx) + neg_ones.dot(x) - inv_t * np.sum(np.log(x) + np.log(C - x))\n",
    "\n",
    "    error = False\n",
    "    while True:\n",
    "        # We compute the gradient and the hessian at current point x.\n",
    "        gradient = Hx + neg_ones + (1 / (C - x) - 1 / x) * inv_t\n",
    "#         hessian = np.copy(H)\n",
    "        modif = inv_t * (1 / (x * x) + 1 / (C - x) ** 2)\n",
    "        H[inds, inds] += modif\n",
    "        direction = -linalg.inv(H).dot(gradient)\n",
    "        decrement = -gradient.T.dot(direction)\n",
    "        H[inds, inds] -= modif\n",
    "        \n",
    "        step_size = 1\n",
    "        prev_fx = np.nan\n",
    "        # We perform an alpha beta line search in the direction given by Newton's method.\n",
    "        while True:\n",
    "            new_x = x + step_size * direction\n",
    "            new_Hx = H.dot(new_x)\n",
    "            new_fx = 0.5 * new_x.dot(new_Hx) + neg_ones.dot(new_x) - inv_t * np.sum(np.log(new_x) + np.log(C - new_x))\n",
    "            \n",
    "            # If new_fx is 'nan', the following equality returns False.\n",
    "            # Thus, we continue to reduce the step size at least until new_x becomes feasible.\n",
    "            if new_fx <= fx - decrement * step_size * alpha or prev_fx < new_fx:\n",
    "                break\n",
    "\n",
    "            step_size *= beta\n",
    "            prev_fx = new_fx\n",
    "            \n",
    "        x = new_x\n",
    "        fx = new_fx\n",
    "        Hx = new_Hx\n",
    "        \n",
    "        # We use the Newton's decrement as an approximation of the error, if no optimal value is given to the function.\n",
    "        err = decrement / 2 if optimal_value is None else fx - optimal_value\n",
    "        errs.append(err)\n",
    "        \n",
    "        if err < epsilon:\n",
    "            break\n",
    "    \n",
    "    if errs[-1] <= 0.:\n",
    "        errs[-1] = epsilon\n",
    "\n",
    "    if display:\n",
    "        semilogy()\n",
    "        plot(arange(1, len(errs) + 1), errs)\n",
    "        show()\n",
    "    return x, fx\n",
    "\n",
    "\n",
    "def svm(X, y, C, precision=None, alpha=0.5, beta=0.5, gamma=10, x_start=None, show_step_details=False, t=1., show_steps=False):\n",
    "    m, n = X.shape\n",
    "    X = np.concatenate((X, np.ones((m, 1))), axis=1)\n",
    "    Xy = X * y[:, None]\n",
    "    H = Xy.dot(Xy.T)\n",
    "    \n",
    "    x = x_start\n",
    "    if precision is None:\n",
    "        precision = 1e-13 * C\n",
    "    elif precision < 1e-13 * C:\n",
    "        print(\"Modified precision to %.0e to guarantee convergence.\" % (1e-13 * C))\n",
    "        precision = 1e-13 * C\n",
    "    \n",
    "    epsilon = precision\n",
    "    step = 0\n",
    "    central_path = []\n",
    "    \n",
    "    while 2*m / t > epsilon:\n",
    "        if show_steps:\n",
    "            print(\"Step\", step)\n",
    "        step += 1\n",
    "        x, f_x = newton_svm(H, C, epsilon, alpha, beta, t=t, x_start=x, display=show_step_details)\n",
    "        t *= gamma\n",
    "        central_path.append(x)\n",
    "    \n",
    "    w = X.T.dot(y * x)\n",
    "    \n",
    "    return w, x, np.array(central_path)"
   ]
  },
  {
   "cell_type": "markdown",
   "metadata": {},
   "source": [
    "# TODO\n",
    "- With a kernel\n",
    "- Support vectors\n",
    "- Weights of support vectors\n",
    "- Classification function"
   ]
  },
  {
   "cell_type": "code",
   "execution_count": 11,
   "metadata": {
    "collapsed": true
   },
   "outputs": [],
   "source": [
    "def generate(mu1, sigma1, mu2, sigma2, N1, N2):\n",
    "    mu1 = np.array(mu1)\n",
    "    mu2 = np.array(mu2)\n",
    "    sigma1 = np.array(sigma1)\n",
    "    sigma2 = np.array(sigma2)\n",
    "    \n",
    "    mu = (mu1 + mu2) / 2.\n",
    "    mu1 = mu1 - mu\n",
    "    mu2 = mu2 - mu\n",
    "    X_train = np.concatenate([np.random.multivariate_normal(mu1, sigma1, N1), np.random.multivariate_normal(mu2, sigma2, N1)], axis=0)\n",
    "    y_train = np.concatenate([-np.ones(N1), np.ones(N1)], axis=0)\n",
    "    X_test = np.concatenate([np.random.multivariate_normal(mu1, sigma1, N2), np.random.multivariate_normal(mu2, sigma2, N2)], axis=0)\n",
    "    y_test = np.concatenate([-np.ones(N2), np.ones(N2)], axis=0)\n",
    "    return ((X_train, y_train), (X_test, y_test))\n",
    "\n",
    "def plot_dataset(dataset, letter=\"\", printing=True):\n",
    "    train_x, train_y = dataset[0]\n",
    "    plt.scatter(train_x[train_y == -1.][:, 0], train_x[train_y == -1.][:, 1], color='r')\n",
    "    plt.scatter(train_x[train_y == 1.][:, 0], train_x[train_y == 1.][:, 1], color='b')\n",
    "    plt.title(\"Dataset \" + letter)\n",
    "    xlim(np.min(dataset[0][0][:, 0]), np.max(dataset[0][0][:, 0]))\n",
    "    ylim(np.min(dataset[0][0][:, 1]), np.max(dataset[0][0][:, 1]))\n",
    "    \n",
    "    if printing:\n",
    "        plt.show()\n",
    "\n",
    "def plot_point(point1, point2):\n",
    "    plt.plot([point1[0], point2[0]], [point1[1], point2[1]], color='black')\n",
    "\n",
    "def display_results(dataset, w, letter=\"\"):\n",
    "    plot_dataset(dataset, letter, False)\n",
    "    \n",
    "    # We plot the orthogonal line to vector w\n",
    "    orth = np.array([-w[1], w[0]])\n",
    "    offset = w[-1]\n",
    "    w = w[:-1]\n",
    "    unit_dir = w / np.linalg.norm(w) ** 2\n",
    "    point0 = unit_dir * (- offset)\n",
    "    point1 = point0 + 100*orth\n",
    "    point2 = point0 - 100*orth\n",
    "    plot_point(point1, point2)\n",
    "    point0 = unit_dir * (1 - offset)\n",
    "    point1 = point0 + 100*orth\n",
    "    point2 = point0 - 100*orth\n",
    "    plot_point(point1, point2)\n",
    "    point0 = unit_dir * (-1 - offset)\n",
    "    point1 = point0 + 100*orth\n",
    "    point2 = point0 - 100*orth\n",
    "    plot_point(point1, point2)\n",
    "    plt.show()\n",
    "    x_test, y_test = dataset[1]\n",
    "    x_train, y_train = dataset[0]\n",
    "    test_accuracy = 100 * np.mean((x_test.dot(w) + offset > 0) * 2 - 1 == y_test)\n",
    "    train_accuracy = 100 * np.mean((x_train.dot(w) + offset > 0) * 2 - 1 == y_train)\n",
    "    print(\"Train Accuracy: %.2f %%\\n Test Accuracy: %.2f %%\" % (train_accuracy, test_accuracy))"
   ]
  },
  {
   "cell_type": "markdown",
   "metadata": {},
   "source": [
    "## Unit tests"
   ]
  },
  {
   "cell_type": "code",
   "execution_count": 12,
   "metadata": {},
   "outputs": [
    {
     "name": "stdout",
     "output_type": "stream",
     "text": [
      "[ 1. -1.  0.]\n",
      "[ 1.  1.]\n",
      "[[ 1.53384082  1.53384082]\n",
      " [ 1.08127136  1.08127136]\n",
      " [ 1.00880056  1.00880056]\n",
      " [ 1.00088799  1.00088799]\n",
      " [ 1.00008888  1.00008888]\n",
      " [ 1.00000889  1.00000889]\n",
      " [ 1.00000089  1.00000089]\n",
      " [ 1.00000009  1.00000009]\n",
      " [ 1.00000005  1.00000005]\n",
      " [ 1.          1.        ]\n",
      " [ 1.          1.        ]\n",
      " [ 1.          1.        ]\n",
      " [ 1.          1.        ]]\n"
     ]
    },
    {
     "data": {
      "image/png": "[encoded data removed]",
      "text/plain": [
       "<matplotlib.figure.Figure at 0x7f7701dcd320>"
      ]
     },
     "metadata": {},
     "output_type": "display_data"
    },
    {
     "name": "stdout",
     "output_type": "stream",
     "text": [
      "Modified precision to 1e-10 to guarantee convergence.\n",
      "Step 0\n"
     ]
    },
    {
     "name": "stderr",
     "output_type": "stream",
     "text": [
      "/home/martin/anaconda3/lib/python3.6/site-packages/ipykernel_launcher.py:35: RuntimeWarning: invalid value encountered in log\n"
     ]
    },
    {
     "name": "stdout",
     "output_type": "stream",
     "text": [
      "Step 1\n",
      "Step 2\n",
      "Step 3\n",
      "Step 4\n",
      "Step 5\n",
      "Step 6\n",
      "Step 7\n",
      "Step 8\n",
      "Step 9\n",
      "Step 10\n",
      "Step 11\n",
      "Step 12\n"
     ]
    },
    {
     "data": {
      "image/png": "[encoded data removed]",
      "text/plain": [
       "<matplotlib.figure.Figure at 0x7f7701d0d7b8>"
      ]
     },
     "metadata": {},
     "output_type": "display_data"
    },
    {
     "name": "stdout",
     "output_type": "stream",
     "text": [
      "Train Accuracy: 96.50 %\n",
      " Test Accuracy: 100.00 %\n"
     ]
    }
   ],
   "source": [
    "X = array([[1, 0],\n",
    "           [0, 1]])\n",
    "y = array([1, -1])\n",
    "w, α, c = svm(X, y, 10)\n",
    "\n",
    "print(w)\n",
    "print(α)\n",
    "print(c)\n",
    "\n",
    "sigma = 0.5\n",
    "cov = np.eye(2) * sigma\n",
    "dataset = generate([-1, -1], cov, [1, 1], cov, 100, 100)\n",
    "plot_dataset(dataset)\n",
    "w, alpha, central_path = svm(dataset[0][0], dataset[0][1], 1e3, show_steps=True, precision=1e-14)\n",
    "display_results(dataset, w)"
   ]
  },
  {
   "cell_type": "markdown",
   "metadata": {},
   "source": [
    "# Tests"
   ]
  },
  {
   "cell_type": "code",
   "execution_count": 17,
   "metadata": {
    "collapsed": true
   },
   "outputs": [],
   "source": [
    "def read_file(filename):\n",
    "    xs = []\n",
    "    ys = []\n",
    "    with open(filename, 'r') as src:\n",
    "        for line in src:\n",
    "            x1, x2, y = line.split()\n",
    "            x1 = float(x1)\n",
    "            x2 = float(x2)\n",
    "            y = float(y)\n",
    "            xs.append([x1, x2])\n",
    "            ys.append(y)\n",
    "    return np.array(xs), np.array(ys) * 2 - 1\n",
    "\n",
    "def import_dataset(letter):\n",
    "    train = \"%s/classification%s.train\" % (\"classification_data\", letter)\n",
    "    test = \"%s/classification%s.test\" % (\"classification_data\", letter )\n",
    "    \n",
    "    return read_file(train), read_file(test)\n",
    "\n",
    "def plot_results(letter, C=1):\n",
    "    dataset = import_dataset(letter)\n",
    "    train = dataset[0]\n",
    "    results = dict()\n",
    "    \n",
    "    results[\"svm\"] = svm(dataset[0][0], dataset[0][1], C)\n",
    "    \n",
    "    for method in [\"svm\"]:\n",
    "        display_results(dataset, results[method][0], letter+\" with \"+method)    "
   ]
  },
  {
   "cell_type": "code",
   "execution_count": 18,
   "metadata": {},
   "outputs": [
    {
     "name": "stderr",
     "output_type": "stream",
     "text": [
      "/home/martin/anaconda3/lib/python3.6/site-packages/ipykernel_launcher.py:35: RuntimeWarning: invalid value encountered in log\n",
      "/home/martin/anaconda3/lib/python3.6/site-packages/ipykernel_launcher.py:35: RuntimeWarning: divide by zero encountered in log\n"
     ]
    },
    {
     "data": {
      "image/png": "[encoded data removed]",
      "text/plain": [
       "<matplotlib.figure.Figure at 0x7f7701e32b70>"
      ]
     },
     "metadata": {},
     "output_type": "display_data"
    },
    {
     "name": "stdout",
     "output_type": "stream",
     "text": [
      "Train Accuracy: 98.00 %\n",
      " Test Accuracy: 98.20 %\n"
     ]
    }
   ],
   "source": [
    "plot_results('A', C=1)"
   ]
  },
  {
   "cell_type": "code",
   "execution_count": 19,
   "metadata": {},
   "outputs": [
    {
     "name": "stderr",
     "output_type": "stream",
     "text": [
      "/home/martin/anaconda3/lib/python3.6/site-packages/ipykernel_launcher.py:35: RuntimeWarning: invalid value encountered in log\n",
      "/home/martin/anaconda3/lib/python3.6/site-packages/ipykernel_launcher.py:35: RuntimeWarning: divide by zero encountered in log\n"
     ]
    },
    {
     "data": {
      "image/png": "[encoded data removed]",
      "text/plain": [
       "<matplotlib.figure.Figure at 0x7f7701d7e240>"
      ]
     },
     "metadata": {},
     "output_type": "display_data"
    },
    {
     "name": "stdout",
     "output_type": "stream",
     "text": [
      "Train Accuracy: 98.00 %\n",
      " Test Accuracy: 95.85 %\n"
     ]
    }
   ],
   "source": [
    "plot_results('B')"
   ]
  },
  {
   "cell_type": "code",
   "execution_count": 20,
   "metadata": {},
   "outputs": [
    {
     "name": "stderr",
     "output_type": "stream",
     "text": [
      "/home/martin/anaconda3/lib/python3.6/site-packages/ipykernel_launcher.py:35: RuntimeWarning: invalid value encountered in log\n",
      "/home/martin/anaconda3/lib/python3.6/site-packages/ipykernel_launcher.py:35: RuntimeWarning: divide by zero encountered in log\n"
     ]
    },
    {
     "data": {
      "image/png": "[encoded data removed]",
      "text/plain": [
       "<matplotlib.figure.Figure at 0x7f7701d7ee10>"
      ]
     },
     "metadata": {},
     "output_type": "display_data"
    },
    {
     "name": "stdout",
     "output_type": "stream",
     "text": [
      "Train Accuracy: 96.00 %\n",
      " Test Accuracy: 97.77 %\n"
     ]
    }
   ],
   "source": [
    "plot_results('C')"
   ]
  },
  {
   "cell_type": "code",
   "execution_count": 21,
   "metadata": {
    "collapsed": true
   },
   "outputs": [],
   "source": [
    "def plot_result_function(letter, classifier, method=\"??\"):\n",
    "    plot_dataset(dataset, letter+' with '+method, printing=False)\n",
    "    X, Y = np.meshgrid(np.linspace(-10, 10, 100), np.linspace(-10, 10, 100))\n",
    "    points = np.stack([X, Y], axis=2)\n",
    "    qda_value = np.array([[classifier(x) for x in a] for a in points])\n",
    "    plt.contour(X, Y, qda_value, [0])\n",
    "    x_test, y_test = dataset[1]\n",
    "    x_train, y_train = dataset[0]\n",
    "    train_labels = (np.array([classifier(x) for x in x_train]) > 0.) * 2 - 1\n",
    "    train_accuracy = np.mean(train_labels == y_train) * 100\n",
    "    test_labels = (np.array([classifier(x) for x in x_test]) > 0.) * 2 - 1\n",
    "    test_accuracy = np.mean(test_labels == y_test) * 100\n",
    "    plt.show()\n",
    "    print(\"Train Accuracy: %.2f %%\\n Test Accuracy: %.2f %%\" % (train_accuracy, test_accuracy))"
   ]
  },
  {
   "cell_type": "markdown",
   "metadata": {},
   "source": [
    "# Comparison with LibSVM and LibLinear"
   ]
  },
  {
   "cell_type": "code",
   "execution_count": 25,
   "metadata": {},
   "outputs": [
    {
     "name": "stdout",
     "output_type": "stream",
     "text": [
      "CPU times: user 440 ms, sys: 12 ms, total: 452 ms\n",
      "Wall time: 143 ms\n",
      "CPU times: user 4 ms, sys: 0 ns, total: 4 ms\n",
      "Wall time: 669 µs\n",
      "0.982666666667\n",
      "[ 1.9306341]\n",
      "[-1.05593335 -0.97963069  1.93072525]\n",
      "{'C': 1, 'class_weight': None, 'dual': True, 'fit_intercept': True, 'intercept_scaling': 1, 'loss': 'hinge', 'max_iter': 1000, 'multi_class': 'ovr', 'penalty': 'l2', 'random_state': None, 'tol': 0.0001, 'verbose': 0}\n",
      "0.006666666666666667\n",
      "17\n",
      "1.0\n"
     ]
    },
    {
     "name": "stderr",
     "output_type": "stream",
     "text": [
      "/home/martin/anaconda3/lib/python3.6/site-packages/ipykernel_launcher.py:35: RuntimeWarning: invalid value encountered in log\n"
     ]
    }
   ],
   "source": [
    "from sklearn.svm import SVC, LinearSVC\n",
    "\n",
    "datasetA = import_dataset(\"A\")\n",
    "datasetA = ((datasetA[0][0] + 1, datasetA[0][1]), (datasetA[1][0] + 1, datasetA[1][1]))\n",
    "X, y = datasetA[0]\n",
    "\n",
    "C = 1\n",
    "%time w, α, _ = svm(X, y, C)\n",
    "\n",
    "clf = LinearSVC(C=C, loss='hinge')\n",
    "# clf = SVC(C=C, kernel='linear')\n",
    "%time clf.fit(X, y)\n",
    "print(np.mean(clf.predict(datasetA[1][0]) == datasetA[1][1]))\n",
    "\n",
    "print(clf.intercept_)\n",
    "print(w)\n",
    "print(clf.get_params(deep=False))\n",
    "m = len(X)\n",
    "# print(α)\n",
    "print(C / m)\n",
    "print(np.sum(α > 0.9*(C / m)))\n",
    "print(np.max(α))"
   ]
  },
  {
   "cell_type": "code",
   "execution_count": 23,
   "metadata": {
    "collapsed": true
   },
   "outputs": [],
   "source": [
    "def make_meshgrid(x, y, h=.02):\n",
    "    \"\"\"Create a mesh of points to plot in\n",
    "\n",
    "    Parameters\n",
    "    ----------\n",
    "    x: data to base x-axis meshgrid on\n",
    "    y: data to base y-axis meshgrid on\n",
    "    h: stepsize for meshgrid, optional\n",
    "\n",
    "    Returns\n",
    "    -------\n",
    "    xx, yy : ndarray\n",
    "    \"\"\"\n",
    "    x_min, x_max = x.min() - 1, x.max() + 1\n",
    "    y_min, y_max = y.min() - 1, y.max() + 1\n",
    "    xx, yy = np.meshgrid(np.arange(x_min, x_max, h),\n",
    "                         np.arange(y_min, y_max, h))\n",
    "    return xx, yy\n",
    "\n",
    "\n",
    "def plot_contours(ax, clf, xx, yy, **params):\n",
    "    \"\"\"Plot the decision boundaries for a classifier.\n",
    "\n",
    "    Parameters\n",
    "    ----------\n",
    "    ax: matplotlib axes object\n",
    "    clf: a classifier\n",
    "    xx: meshgrid ndarray\n",
    "    yy: meshgrid ndarray\n",
    "    params: dictionary of params to pass to contourf, optional\n",
    "    \"\"\"\n",
    "    Z = clf.predict(np.c_[xx.ravel(), yy.ravel()])\n",
    "    Z = clf.decision_function(np.c_[xx.ravel(), yy.ravel()])\n",
    "    Z = Z.reshape(xx.shape)\n",
    "    out = ax.contourf(xx, yy, Z, [-1, 0, 1], **params)\n",
    "    return out"
   ]
  },
  {
   "cell_type": "code",
   "execution_count": 24,
   "metadata": {},
   "outputs": [
    {
     "name": "stdout",
     "output_type": "stream",
     "text": [
      "17\n"
     ]
    },
    {
     "data": {
      "image/png": "[encoded data removed]",
      "text/plain": [
       "<matplotlib.figure.Figure at 0x7f76fe7165c0>"
      ]
     },
     "metadata": {},
     "output_type": "display_data"
    },
    {
     "name": "stdout",
     "output_type": "stream",
     "text": [
      "Train Accuracy: 97.33 %\n",
      " Test Accuracy: 98.27 %\n"
     ]
    },
    {
     "data": {
      "text/plain": [
       "Text(0.5,1,'SVC')"
      ]
     },
     "execution_count": 24,
     "metadata": {},
     "output_type": "execute_result"
    }
   ],
   "source": [
    "X0, X1 = X[:, 0], X[:, 1]\n",
    "xx, yy = make_meshgrid(X0, X1)\n",
    "ax = plt.axes()\n",
    "plot_contours(ax, clf, xx, yy,\n",
    "              cmap=plt.cm.coolwarm_r)\n",
    "# ax.scatter(X0, X1, c=y, cmap=plt.cm.coolwarm, s=20, edgecolors='k')\n",
    "# ax.set_xlim(xx.min(), xx.max())\n",
    "# ax.set_ylim(yy.min(), yy.max())\n",
    "# ax.set_xticks(())\n",
    "# ax.set_yticks(())\n",
    "\n",
    "# ax.scatter(clf.support_vectors_[:, 0], clf.support_vectors_[:, 1], s=100,\n",
    "#            linewidth=1)\n",
    "my_support_vectors = X[np.logical_and(α > 1e-6, α <= C-0*1e-6)]\n",
    "print(len(my_support_vectors))\n",
    "ax.scatter(my_support_vectors[:, 0], my_support_vectors[:, 1], s=100,\n",
    "           linewidth=1)\n",
    "display_results(datasetA, w)\n",
    "ax.set_title(\"SVC\")"
   ]
  },
  {
   "cell_type": "code",
   "execution_count": null,
   "metadata": {
    "collapsed": true
   },
   "outputs": [],
   "source": []
  }
 ],
 "metadata": {
  "kernelspec": {
   "display_name": "Python 3",
   "language": "python",
   "name": "python3"
  },
  "language_info": {
   "codemirror_mode": {
    "name": "ipython",
    "version": 3
   },
   "file_extension": ".py",
   "mimetype": "text/x-python",
   "name": "python",
   "nbconvert_exporter": "python",
   "pygments_lexer": "ipython3",
   "version": "3.6.3"
  }
 },
 "nbformat": 4,
 "nbformat_minor": 2
}
